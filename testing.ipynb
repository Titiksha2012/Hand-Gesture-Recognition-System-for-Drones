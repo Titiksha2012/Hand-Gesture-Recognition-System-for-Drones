{
 "cells": [
  {
   "cell_type": "code",
   "execution_count": 2,
   "id": "9b0b4ff1",
   "metadata": {},
   "outputs": [
    {
     "name": "stdout",
     "output_type": "stream",
     "text": [
      "Classes: ['okay', 'peace', 'thumbs up', 'thumbs down', 'call me', 'stop', 'rock', 'live long', 'fist', 'smile']\n",
      "Press keys 0–9 to record the ground truth label after each prediction. Press 'q' to quit.\n",
      "GT: okay, Predicted: rock\n",
      "GT: peace, Predicted: fist\n",
      "GT: thumbs up, Predicted: rock\n",
      "GT: thumbs down, Predicted: rock\n",
      "GT: call me, Predicted: rock\n",
      "GT: stop, Predicted: rock\n",
      "GT: rock, Predicted: rock\n",
      "GT: rock, Predicted: rock\n",
      "GT: live long, Predicted: rock\n",
      "GT: fist, Predicted: rock\n",
      "GT: smile, Predicted: rock\n",
      "\n",
      "=== Classification Report ===\n",
      "              precision    recall  f1-score   support\n",
      "\n",
      "        okay       0.00      0.00      0.00         1\n",
      "       peace       0.00      0.00      0.00         1\n",
      "   thumbs up       0.00      0.00      0.00         1\n",
      " thumbs down       0.00      0.00      0.00         1\n",
      "     call me       0.00      0.00      0.00         1\n",
      "        stop       0.00      0.00      0.00         1\n",
      "        rock       0.20      1.00      0.33         2\n",
      "   live long       0.00      0.00      0.00         1\n",
      "        fist       0.00      0.00      0.00         1\n",
      "       smile       0.00      0.00      0.00         1\n",
      "\n",
      "    accuracy                           0.18        11\n",
      "   macro avg       0.02      0.10      0.03        11\n",
      "weighted avg       0.04      0.18      0.06        11\n",
      "\n"
     ]
    },
    {
     "name": "stderr",
     "output_type": "stream",
     "text": [
      "C:\\Users\\titik\\anaconda3\\lib\\site-packages\\sklearn\\metrics\\_classification.py:1344: UndefinedMetricWarning: Precision and F-score are ill-defined and being set to 0.0 in labels with no predicted samples. Use `zero_division` parameter to control this behavior.\n",
      "  _warn_prf(average, modifier, msg_start, len(result))\n",
      "C:\\Users\\titik\\anaconda3\\lib\\site-packages\\sklearn\\metrics\\_classification.py:1344: UndefinedMetricWarning: Precision and F-score are ill-defined and being set to 0.0 in labels with no predicted samples. Use `zero_division` parameter to control this behavior.\n",
      "  _warn_prf(average, modifier, msg_start, len(result))\n",
      "C:\\Users\\titik\\anaconda3\\lib\\site-packages\\sklearn\\metrics\\_classification.py:1344: UndefinedMetricWarning: Precision and F-score are ill-defined and being set to 0.0 in labels with no predicted samples. Use `zero_division` parameter to control this behavior.\n",
      "  _warn_prf(average, modifier, msg_start, len(result))\n"
     ]
    }
   ],
   "source": [
    "%run test.py"
   ]
  },
  {
   "cell_type": "code",
   "execution_count": null,
   "id": "9f1ace38",
   "metadata": {},
   "outputs": [],
   "source": []
  }
 ],
 "metadata": {
  "kernelspec": {
   "display_name": "Python 3 (ipykernel)",
   "language": "python",
   "name": "python3"
  },
  "language_info": {
   "codemirror_mode": {
    "name": "ipython",
    "version": 3
   },
   "file_extension": ".py",
   "mimetype": "text/x-python",
   "name": "python",
   "nbconvert_exporter": "python",
   "pygments_lexer": "ipython3",
   "version": "3.10.9"
  }
 },
 "nbformat": 4,
 "nbformat_minor": 5
}
