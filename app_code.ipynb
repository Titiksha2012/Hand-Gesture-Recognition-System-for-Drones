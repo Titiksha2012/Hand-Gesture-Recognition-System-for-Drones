{
 "cells": [
  {
   "cell_type": "code",
   "execution_count": 2,
   "id": "c4de8de3",
   "metadata": {},
   "outputs": [
    {
     "name": "stdout",
     "output_type": "stream",
     "text": [
      "^C\n"
     ]
    }
   ],
   "source": [
    "!set FLASK_ENV=development\n",
    "!python -m flask run --no-debugger --no-reload\n"
   ]
  },
  {
   "cell_type": "code",
   "execution_count": 1,
   "id": "be9ecd36",
   "metadata": {},
   "outputs": [
    {
     "name": "stdout",
     "output_type": "stream",
     "text": [
      "WARNING:tensorflow:From C:\\Users\\titik\\AppData\\Roaming\\Python\\Python310\\site-packages\\tf_keras\\src\\losses.py:2976: The name tf.losses.sparse_softmax_cross_entropy is deprecated. Please use tf.compat.v1.losses.sparse_softmax_cross_entropy instead.\n",
      "\n",
      " * Serving Flask app 'app'\n",
      " * Debug mode: off\n"
     ]
    },
    {
     "name": "stderr",
     "output_type": "stream",
     "text": [
      "INFO:werkzeug:\u001b[31m\u001b[1mWARNING: This is a development server. Do not use it in a production deployment. Use a production WSGI server instead.\u001b[0m\n",
      " * Running on http://127.0.0.1:5000\n",
      "INFO:werkzeug:\u001b[33mPress CTRL+C to quit\u001b[0m\n",
      "INFO:werkzeug:127.0.0.1 - - [10/Apr/2025 15:28:39] \"GET / HTTP/1.1\" 200 -\n",
      "INFO:werkzeug:127.0.0.1 - - [10/Apr/2025 15:28:39] \"GET /favicon.ico HTTP/1.1\" 200 -\n",
      "INFO:werkzeug:127.0.0.1 - - [10/Apr/2025 15:28:41] \"GET /start_detection HTTP/1.1\" 200 -\n"
     ]
    }
   ],
   "source": [
    "import threading\n",
    "\n",
    "def run_flask():\n",
    "    from app import app  # Replace with your actual file/module name\n",
    "    app.run(debug=False, use_reloader=False)\n",
    "\n",
    "threading.Thread(target=run_flask).start()\n"
   ]
  },
  {
   "cell_type": "code",
   "execution_count": null,
   "id": "ff3675e3",
   "metadata": {},
   "outputs": [],
   "source": []
  }
 ],
 "metadata": {
  "kernelspec": {
   "display_name": "Python 3 (ipykernel)",
   "language": "python",
   "name": "python3"
  },
  "language_info": {
   "codemirror_mode": {
    "name": "ipython",
    "version": 3
   },
   "file_extension": ".py",
   "mimetype": "text/x-python",
   "name": "python",
   "nbconvert_exporter": "python",
   "pygments_lexer": "ipython3",
   "version": "3.10.9"
  }
 },
 "nbformat": 4,
 "nbformat_minor": 5
}
